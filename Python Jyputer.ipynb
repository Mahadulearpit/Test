{
 "cells": [
  {
   "cell_type": "code",
   "execution_count": null,
   "metadata": {},
   "outputs": [],
   "source": [
    "## find prime numbers from a list\n",
    "\n",
    "a = range(1,101)\n",
    "a = list(a)\n",
    "\n",
    "def prime(a):\n",
    "    for x in range(2,a):\n",
    "        if (a%x) == 0:\n",
    "            return False\n",
    "    return True\n",
    "\n",
    "prime = filter(prime,a)\n",
    "print(list(prime))"
   ]
  },
  {
   "cell_type": "code",
   "execution_count": null,
   "metadata": {},
   "outputs": [],
   "source": [
    "## open a file from local read all content at a time\n",
    "\n",
    "with open(file = 'C:\\\\Users\\\\arpit.mahadule\\\\Desktop\\\\CSV.csv',mode = 'r' , encoding = None) as f:\n",
    "    content = f.read()\n",
    "\n",
    "print(content)"
   ]
  },
  {
   "cell_type": "code",
   "execution_count": null,
   "metadata": {},
   "outputs": [],
   "source": [
    "## open file from local read line by line\n",
    "\n",
    "f = open(file = 'C:\\\\Users\\\\arpit.mahadule\\\\Desktop\\\\CSV.csv',mode = 'r',encoding = None, newline = '\\n')\n",
    "for line in f:\n",
    "    print(line.rstrip())  # rstrip : strips the new line"
   ]
  },
  {
   "cell_type": "code",
   "execution_count": null,
   "metadata": {},
   "outputs": [],
   "source": [
    "## open a file and writing each line into new file\n",
    "\n",
    "f = open(file = 'C:\\\\Users\\\\arpit.mahadule\\\\Desktop\\\\CSV.csv', mode = 'r',newline='\\n')\n",
    "of = open(file = 'C:\\\\Users\\\\arpit.mahadule\\\\Desktop\\\\CSV_output.csv',mode = 'w',newline = '\\n' , encoding= 'utf-8')\n",
    "\n",
    "for line in f:\n",
    "    of.write(line)\n",
    "of.close()\n",
    "f.close()\n"
   ]
  },
  {
   "cell_type": "code",
   "execution_count": null,
   "metadata": {},
   "outputs": [],
   "source": [
    " ## open file from local read and shuffle column and insert into output files\n",
    "\n",
    "import csv\n",
    "\n",
    "feilds = ['line2','line3','line1']\n",
    "\n",
    "f= open(file = 'C:\\\\Users\\\\arpit.mahadule\\\\Desktop\\\\CSV.csv', mode= 'r',newline='', encoding= 'utf-8')\n",
    "outfile = open(file = 'C:\\\\Users\\\\arpit.mahadule\\\\Desktop\\\\CSV_output.csv',mode = 'w', newline= '', encoding='utf-8')\n",
    "writer = csv.DictWriter(outfile,fieldnames=feilds,delimiter=',')\n",
    "writer.writeheader()\n",
    "\n",
    "for row in csv.DictReader(f,delimiter=','):\n",
    "    writer.writerow(row)\n",
    "\n",
    "outfile.close()\n",
    "f.close()    \n"
   ]
  },
  {
   "cell_type": "code",
   "execution_count": null,
   "metadata": {},
   "outputs": [],
   "source": [
    "## Connect to SFTP using paramiko\n",
    "import paramiko\n",
    "import datetime\n",
    "\n",
    "host = ''\n",
    "username = ''\n",
    "password = ''\n",
    "directory = ''\n",
    "local_reports_path = 'C:\\\\Users\\\\arpit.mahadule\\\\Desktop\\\\'\n",
    "def sftp_get_files():\n",
    "\t# Create an SSH client\n",
    "\tclient = paramiko.SSHClient()\n",
    "\tclient.set_missing_host_key_policy(paramiko.AutoAddPolicy())\n",
    "\t# Connect to the SSH server\n",
    "\tclient.connect(host, port='22', username=username, password=password)\n",
    "\tsftp = client.open_sftp()\n",
    "\n",
    "\tfile_list = sftp.listdir_attr(directory)\n",
    "\tprint(file_list)\n",
    "\n",
    "\tfor file in file_list:\n",
    "\t\tfilename = file.filename\n",
    "\t\tprint(filename)\n",
    "\n",
    "\t\tif filename == '':\n",
    "\t\t\tfilepath = directory + filename\n",
    "\t\t\tlocalpath = local_reports_path + filename\n",
    "\t\t\tsftp.get(filepath, localpath)\n",
    "\t\telse:\n",
    "\t\t\tcontinue\n",
    "\n",
    "\tsftp.close()\n",
    "\tclient.close()\n",
    "\n",
    "sftp_get_files()"
   ]
  },
  {
   "cell_type": "code",
   "execution_count": null,
   "metadata": {},
   "outputs": [],
   "source": [
    "### get the factorial of number\n",
    "\n",
    "def factorial(num):\n",
    "\n",
    "    if num == 0:\n",
    "        return 1\n",
    "    else:\n",
    "        fact = 1\n",
    "        for i in range(1,num+1):\n",
    "            fact = fact*i\n",
    "        return fact\n",
    "\n",
    "a = factorial(6)\n",
    "print(a)"
   ]
  },
  {
   "cell_type": "code",
   "execution_count": null,
   "metadata": {},
   "outputs": [],
   "source": [
    "# check if the string is palindrome\n",
    "\n",
    "def palindrome(word):\n",
    "    reverse = ''\n",
    "    for i in word:\n",
    "        reverse = i+reverse\n",
    "    print(reverse)\n",
    "    if reverse == word:\n",
    "        return 'its a palindrome'\n",
    "    else:\n",
    "        return 'its not !!'\n",
    "\n",
    "a= palindrome('malayalam')\n",
    "print(a)\n"
   ]
  },
  {
   "cell_type": "code",
   "execution_count": null,
   "metadata": {},
   "outputs": [],
   "source": [
    "# count the vowels in a string\n",
    "str = 'arpiteoi'\n",
    "\n",
    "str = str.upper()\n",
    "count = 0\n",
    "\n",
    "for i in str:\n",
    "    if i in ['A','E','I','O','U']:\n",
    "        count = count+1\n",
    "print(count)"
   ]
  },
  {
   "cell_type": "code",
   "execution_count": null,
   "metadata": {},
   "outputs": [],
   "source": [
    "# remove dups\n",
    "\n",
    "lis = [1,2,3,4,1,2,4,6,7]\n",
    "\n",
    "no_dups = set(lis)\n",
    "print(no_dups)"
   ]
  },
  {
   "cell_type": "code",
   "execution_count": null,
   "metadata": {},
   "outputs": [],
   "source": [
    "# check if the number is prime\n",
    "\n",
    "num = 97\n",
    "\n",
    "for i in range(2,num):\n",
    "    if num%i == 0:\n",
    "        print('its prime')\n",
    "        break\n",
    "    else:\n",
    "        print('its non prime')\n",
    "        break"
   ]
  },
  {
   "cell_type": "code",
   "execution_count": null,
   "metadata": {},
   "outputs": [],
   "source": [
    "# sort a list\n",
    "\n",
    "lis = [1,4,5,2,3,7,6,4]\n",
    "lis.sort()\n",
    "print(lis)"
   ]
  },
  {
   "cell_type": "code",
   "execution_count": null,
   "metadata": {},
   "outputs": [],
   "source": [
    "## find 2nd largest number in list\n",
    "\n",
    "lis = [1,4,5,2,3,7,6,10]\n",
    "\n",
    "# poping out the original max num\n",
    "max_num = (max(lis))\n",
    "print(f'max_num ={max_num}')\n",
    "ind = lis.index(max_num)   # index is found using the list number\n",
    "lis.pop(ind)\n",
    "\n",
    "max_num = (max(lis))\n",
    "print(max_num)\n"
   ]
  },
  {
   "cell_type": "code",
   "execution_count": null,
   "metadata": {},
   "outputs": [],
   "source": [
    "## write a get the fibonacci number\n",
    "# (n-1) + (n-2) where n>=2\n",
    "\n",
    "\n",
    "number = 6\n",
    "fib_lis = []\n",
    "pervious = 0\n",
    "current = 1\n",
    "fib_lis.append(pervious)\n",
    "fib_lis.append(current)\n",
    "for i in range(2,number+1):\n",
    "    next = pervious + current\n",
    "    pervious = current\n",
    "    current = next\n",
    "    fib_lis.append(current)\n",
    "\n",
    "print(fib_lis)\n",
    "\n",
    "\n"
   ]
  },
  {
   "cell_type": "code",
   "execution_count": null,
   "metadata": {},
   "outputs": [],
   "source": [
    "# list with unique values with position same\n",
    "lis = [2,1,6,4,1,4,5,3,6,2,3,3,6]\n",
    "uniqe_list = []\n",
    "\n",
    "for i in lis:\n",
    "    if i in uniqe_list:\n",
    "        continue\n",
    "    else:\n",
    "        uniqe_list.append(i)\n",
    "\n",
    "print(uniqe_list)\n"
   ]
  },
  {
   "cell_type": "code",
   "execution_count": null,
   "metadata": {},
   "outputs": [],
   "source": [
    "## count words in sentence\n",
    "\n",
    "str = ' aaa bddd csss das '\n",
    "str = str.strip(' ')\n",
    "lis = [x for x  in str.split(' ')]\n",
    "\n",
    "print(len(lis))\n",
    "\n"
   ]
  },
  {
   "cell_type": "code",
   "execution_count": null,
   "metadata": {},
   "outputs": [],
   "source": [
    "##median\n",
    "lis = [2,3,1,5,4,6,8,7]\n",
    "lis.sort()\n",
    "\n",
    "ind = len(lis)\n",
    "print(f'{ind} is the lenght of list')\n",
    "\n",
    "median_value = lis[int(ind/2)]\n",
    "print(median_value)\n"
   ]
  },
  {
   "cell_type": "code",
   "execution_count": null,
   "metadata": {},
   "outputs": [],
   "source": [
    "## highest palindrome number with 3 digits mutliplied\n",
    "\n",
    "List_of_palindromes = [i*j \n",
    "for i in range(100,1000) \n",
    "for j in range(i,1000) \n",
    "if \"{}\".format(i*j)==\"{}\".format(i*j)[::-1]]   ## alternate method to convert int to str\n",
    "print(max(List_of_palindromes))\n",
    "\n",
    "lis = []\n",
    "for i in range(100,1000):\n",
    "    for j in range(i,1000):\n",
    "        if \"{}\".format(i*j) == \"{}\".format(i*j)[::-1]:\n",
    "            lis.append(i*j)\n",
    "        else:\n",
    "            continue\n",
    "\n",
    "print(max(lis))"
   ]
  },
  {
   "cell_type": "code",
   "execution_count": null,
   "metadata": {},
   "outputs": [],
   "source": [
    "## check if 2 words are anagrams -- eat and ate\n",
    "\n",
    "def check_anagram(word1,word2):\n",
    "    list_word1 = []\n",
    "    list_word2 = []\n",
    "\n",
    "    for i in word1:\n",
    "        list_word1.append(i)\n",
    "    for i in word2:\n",
    "        list_word2.append(i)\n",
    "    if sorted(list_word1) == sorted(list_word2):\n",
    "        print(f'{word1},{word2} are anagrams')\n",
    "    else:\n",
    "        print(f'{word1},{word2} are not anagrams')\n",
    "\n",
    "check_anagram('ate','eat')\n"
   ]
  },
  {
   "cell_type": "code",
   "execution_count": null,
   "metadata": {},
   "outputs": [],
   "source": [
    "##\n",
    "\n",
    "string = 'aeiouxlss'\n",
    "upp_str = string.upper()\n",
    "\n",
    "non_vol_str = ''\n",
    "\n",
    "for i in upp_str:\n",
    "    if i in ['A','E','I','O','U']:\n",
    "        continue\n",
    "    else:\n",
    "        non_vol_str = non_vol_str+i\n",
    "\n",
    "print(non_vol_str)"
   ]
  },
  {
   "cell_type": "code",
   "execution_count": null,
   "metadata": {},
   "outputs": [],
   "source": [
    "## draw stars triange\n",
    "\n",
    "for i in range(1,7):\n",
    "    for x in range(i):\n",
    "        print('*',end ='')\n",
    "    print('')"
   ]
  },
  {
   "cell_type": "code",
   "execution_count": null,
   "metadata": {},
   "outputs": [],
   "source": [
    "# draw reverse triangle\n",
    " \n",
    "for i in range(6,0,-1):\n",
    "    for x in range(i):\n",
    "        print('*',end = '')\n",
    "    print('')\n",
    "\n"
   ]
  },
  {
   "cell_type": "code",
   "execution_count": null,
   "metadata": {},
   "outputs": [],
   "source": [
    "# list compri\n",
    "\n",
    "lis = [i for i in range(1,10) if i%2 == 0]\n",
    "print(lis)\n",
    "\n",
    "dic = {n:n*n for n in range(1,10)}\n",
    "print(dic)"
   ]
  },
  {
   "cell_type": "code",
   "execution_count": null,
   "metadata": {},
   "outputs": [],
   "source": [
    "## use of *args\n",
    "\n",
    "def sum(*args):\n",
    "    total = 0\n",
    "    for a in args:\n",
    "        total = total + a\n",
    "    print(total)\n",
    "\n",
    "sum(1,2,3,4)"
   ]
  },
  {
   "cell_type": "code",
   "execution_count": null,
   "metadata": {},
   "outputs": [],
   "source": [
    "#use of *kwargs\n",
    "\n",
    "def show(**kwargs):\n",
    "    first = kwargs['a']\n",
    "    print(first)\n",
    "\n",
    "show(a=1,b=2,c=3)"
   ]
  },
  {
   "cell_type": "code",
   "execution_count": null,
   "metadata": {},
   "outputs": [],
   "source": [
    "## access the all values from dict\n",
    "\n",
    "dic = {'a':1,'b':2,'c':3}\n",
    "\n",
    "keys = dic.keys()\n",
    "values = dic.values()\n",
    "print(values)\n",
    "\n",
    "## access the value from dict using key\n",
    "value0 = dic['b']\n",
    "print(value0)\n"
   ]
  },
  {
   "cell_type": "code",
   "execution_count": null,
   "metadata": {},
   "outputs": [],
   "source": [
    "li = \"hello world\"\n",
    "\n",
    "print(li[::-1])"
   ]
  },
  {
   "cell_type": "code",
   "execution_count": null,
   "metadata": {},
   "outputs": [],
   "source": [
    "##lambda\n",
    "\n",
    "sq = lambda x : x*x\n",
    "\n",
    "ax = map(sq,5)\n",
    "print(ax)\n",
    "print(sq(5))\n"
   ]
  },
  {
   "cell_type": "code",
   "execution_count": null,
   "metadata": {},
   "outputs": [],
   "source": [
    "# usinh of zip to may dict\n",
    "\n",
    "list1 = ['1','2','3','4']\n",
    "list2 = ['a','b','c','d']\n",
    "\n",
    "for x,y in zip(list1,list2):\n",
    "    print(x +\":\" + y)\n",
    "\n",
    "dictcomp = {x:y for x,y in zip(list1,list2)}\n",
    "print(dictcomp)"
   ]
  },
  {
   "cell_type": "code",
   "execution_count": null,
   "metadata": {},
   "outputs": [],
   "source": [
    "## using enumerate  : is used to get the sequence\n",
    "\n",
    "lis = [1,2,3]\n",
    "for i,j in enumerate(lis):\n",
    "    print(i,j)"
   ]
  },
  {
   "cell_type": "code",
   "execution_count": null,
   "metadata": {},
   "outputs": [],
   "source": [
    "from airflow import DAG\n",
    "from airflow.operators.dummy import DummyOperator\n",
    "\n",
    "default_args ={\n",
    "    \"owner\" : 'name',\n",
    "    \"depends_on_past\" : False,\n",
    "    \"start_date\" : days_ago(0),\n",
    "    \"retries\" : 1,\n",
    "    }\n",
    "\n",
    "dag = DAG (\n",
    "    \"dag_name\",\n",
    "    description = 'This is a test dags',\n",
    "    start_date = datetime(20,8,2023),\n",
    "    schedule_interval = cron(5 * * * *)\n",
    "    catchup = False\n",
    ")\n",
    "\n",
    "task_start = DummyOperator(task_id=\"task_start\")"
   ]
  },
  {
   "cell_type": "code",
   "execution_count": null,
   "metadata": {},
   "outputs": [],
   "source": [
    "## sql server connection\n",
    "\n",
    "from sqlalchemy import create_engine\n",
    "import pandas as pd\n",
    "\n",
    "server = 'server-name'\n",
    "database = 'db-name'\n",
    "driver = 'sql server client 11.0'\n",
    "username = 'name'\n",
    "password = 'pass'\n",
    "\n",
    "database_connection = f'mssql://{username}:{password}@{server}/{database}?driver={driver}'\n",
    "\n",
    "engine = create_engine(database_connection)\n",
    "conn = engine.connect()\n",
    "\n",
    "response = conn.execute(\"select top 1 from [db-name].[dbo].[table-name]\")\n",
    "print(response)\n"
   ]
  },
  {
   "cell_type": "code",
   "execution_count": null,
   "metadata": {},
   "outputs": [],
   "source": [
    "## API extraction\n",
    "\n",
    "import requests\n",
    "\n",
    "url =''\n",
    "\n",
    "#header = {\"Content-Type\" : \"application/json\"}\n",
    "\n",
    "response = requests.get(url)\n",
    "print(response)\n",
    "\n",
    "res_data = response.text\n",
    "print(res_data)\n"
   ]
  },
  {
   "cell_type": "code",
   "execution_count": null,
   "metadata": {},
   "outputs": [],
   "source": [
    "from datetime import  datetime, timedelta\n",
    "\n",
    "today = datetime.today().date()  \n",
    "yesterday = (datetime.today() - timedelta(days=1)).date()\n",
    "\n",
    "print(today)\n",
    "print(yesterday)"
   ]
  },
  {
   "cell_type": "code",
   "execution_count": null,
   "metadata": {},
   "outputs": [],
   "source": [
    "## pandas\n",
    "\n",
    "import pandas as pd\n",
    "import requests\n",
    "\n",
    "url = \"\"\n",
    "\n",
    "headers = {\n",
    "    \"accept\": \"application/json\",\n",
    "    \"api-key\": \"\"\n",
    "}\n",
    "\n",
    "response = requests.get(url, headers=headers)\n",
    "\n",
    "df = pd.read_json(response.text)\n",
    "\n",
    "df"
   ]
  },
  {
   "cell_type": "code",
   "execution_count": null,
   "metadata": {},
   "outputs": [],
   "source": [
    "## Deal with json using python\n",
    "\n",
    "import json\n",
    "\n",
    "with open(file = '',mode = 'r' , encoding = None) as f:\n",
    "    content = f.read()\n",
    "\n",
    "    fil = json.loads(content)\n",
    "    print(fil)\n",
    "\n",
    "    for x in fil:\n",
    "        for index in range(0,len(x['users'])):\n",
    "            print(x['users'][index]['id'],',',x['users'][index]['name'],',',x['users'][index]['email'],',',x['users'][index]['phone'])\n",
    "\n"
   ]
  }
 ],
 "metadata": {
  "kernelspec": {
   "display_name": "Python 3",
   "language": "python",
   "name": "python3"
  },
  "language_info": {
   "codemirror_mode": {
    "name": "ipython",
    "version": 3
   },
   "file_extension": ".py",
   "mimetype": "text/x-python",
   "name": "python",
   "nbconvert_exporter": "python",
   "pygments_lexer": "ipython3",
   "version": "3.10.5"
  },
  "orig_nbformat": 4
 },
 "nbformat": 4,
 "nbformat_minor": 2
}
